{
 "cells": [
  {
   "cell_type": "markdown",
   "id": "00f6cd27-7709-40a4-9527-6517e81a2af9",
   "metadata": {},
   "source": [
    "# Report Handling Breakdown"
   ]
  },
  {
   "cell_type": "markdown",
   "id": "175b8bcc-9426-4b7d-bd6f-90306b21b5f5",
   "metadata": {},
   "source": [
    "This Dashboard gives some insight into the flow and handling of reports by section\n",
    "\n",
    "1. The leftmost block shows the total number of reports that were received in the Portal that are now closed.\n",
    "2. The middle stack of blocks show how many of these reports make it to each section.\n",
    "3. Finally, the last column of blocks shows the last contact that was made to the report before it was closed."
   ]
  },
  {
   "cell_type": "code",
   "execution_count": null,
   "id": "c68c9fa0-19bf-4b7d-a94a-305675fb9202",
   "metadata": {
    "execution": {
     "iopub.execute_input": "2023-05-20T18:28:52.327330Z",
     "iopub.status.busy": "2023-05-20T18:28:52.326298Z",
     "iopub.status.idle": "2023-05-20T18:28:57.506931Z",
     "shell.execute_reply": "2023-05-20T18:28:57.504386Z"
    }
   },
   "outputs": [],
   "source": [
    "%load_ext sql\n",
    "%config SqlMagic.feedback = False\n",
    "%config SqlMagic.displaycon = False"
   ]
  },
  {
   "cell_type": "code",
   "execution_count": null,
   "id": "65cf0c3e-a258-4595-afa5-72b234387e47",
   "metadata": {
    "execution": {
     "iopub.execute_input": "2023-05-20T18:29:05.184956Z",
     "iopub.status.busy": "2023-05-20T18:29:05.184110Z",
     "iopub.status.idle": "2023-05-20T18:29:06.062894Z",
     "shell.execute_reply": "2023-05-20T18:29:06.059474Z"
    }
   },
   "outputs": [],
   "source": [
    "%%sql contact_breakdown <<\n",
    "WITH last_touch AS (\n",
    "  SELECT\n",
    "    actor_object_id,\n",
    "    target_object_id,\n",
    "    description,\n",
    "    verb,\n",
    "    ROW_NUMBER() OVER(PARTITION BY target_object_id ORDER BY timestamp DESC) AS row_number\n",
    "  FROM actstream_action\n",
    "  WHERE verb = 'Contacted complainant:'\n",
    "),\n",
    "\n",
    "contact_actions AS (\n",
    "  SELECT\n",
    "    actor_object_id as user_id,\n",
    "    NULLIF(target_object_id, '')::int as report_id,\n",
    "    CASE\n",
    "      WHEN strpos(description, 'Email sent:') = 1\n",
    "        THEN SUBSTR(description, STRPOS(description, '''') + 1, STRPOS(description, ''' to') - STRPOS(description, '''') - 1)\n",
    "      WHEN strpos(description, 'Printed') = 1\n",
    "        THEN SUBSTR(description, STRPOS(description, '''') + 1, STRPOS(description, ''' template') - STRPOS(description, '''') - 1)\n",
    "      WHEN strpos(description, 'Copied') = 1\n",
    "        THEN SUBSTR(description, STRPOS(description, '''') + 1, STRPOS(description, ''' template') - STRPOS(description, '''') - 1)\n",
    "      ELSE\n",
    "         'Other'\n",
    "    END AS action\n",
    "  FROM last_touch\n",
    "  WHERE row_number = 1\n",
    ")\n",
    "\n",
    "SELECT\n",
    "  contact_actions.action as action,\n",
    "  cts_forms_report.assigned_section AS section,\n",
    "  COUNT(DISTINCT contact_actions.user_id) AS user_count,\n",
    "  COUNT(DISTINCT contact_actions.report_id) AS report_count\n",
    "FROM contact_actions\n",
    "LEFT JOIN cts_forms_report\n",
    "ON contact_actions.report_id = cts_forms_report.id\n",
    "GROUP BY ROLLUP (section, action)"
   ]
  },
  {
   "cell_type": "code",
   "execution_count": null,
   "id": "0c5e5069-90ee-4236-a243-0b5cc51d9180",
   "metadata": {
    "execution": {
     "iopub.execute_input": "2023-05-20T18:29:13.845084Z",
     "iopub.status.busy": "2023-05-20T18:29:13.843964Z",
     "iopub.status.idle": "2023-05-20T18:29:14.683867Z",
     "shell.execute_reply": "2023-05-20T18:29:14.681060Z"
    }
   },
   "outputs": [],
   "source": [
    "import plotly.graph_objects as go\n",
    "\n",
    "import collections\n",
    "\n",
    "root = next(\n",
    "    row\n",
    "    for row in contact_breakdown\n",
    "    if row.section is None and row.action is None\n",
    ")\n",
    "\n",
    "section_roots = [\n",
    "    row\n",
    "    for row in contact_breakdown\n",
    "    if row.section is not None and row.action is None\n",
    "]\n",
    "\n",
    "leafs = [\n",
    "    row\n",
    "    for row in contact_breakdown\n",
    "    if row.section is not None and row.action is not None\n",
    "]\n",
    "\n",
    "indices = {\n",
    "    (row.section, row.action): i\n",
    "    for i, row in enumerate([\n",
    "        root,\n",
    "        *section_roots,\n",
    "        *leafs,\n",
    "    ])\n",
    "}\n",
    "\n",
    "node = {\n",
    "    \"pad\": 15,\n",
    "    \"thickness\": 15,\n",
    "    \"line\": {\n",
    "        \"color\": \"black\",\n",
    "        \"width\": 0.5\n",
    "    },\n",
    "    \"label\": [\n",
    "        'Intake',\n",
    "        *[\n",
    "            row.section\n",
    "            for row in section_roots\n",
    "        ],\n",
    "        *[\n",
    "            row.action\n",
    "            for row in leafs\n",
    "        ]\n",
    "    ]\n",
    "}\n",
    "\n",
    "link = {\n",
    "    \"source\": [\n",
    "        *[\n",
    "            indices[(root.section, root.action)]\n",
    "            for _ in section_roots\n",
    "        ],\n",
    "        *[\n",
    "            indices[(leaf.section, None)]\n",
    "            for leaf in leafs\n",
    "        ],\n",
    "    ],\n",
    "    \"target\": [\n",
    "        *[\n",
    "            indices[(section.section, None)]\n",
    "            for section in section_roots\n",
    "        ],\n",
    "        *[\n",
    "            indices[(leaf.section, leaf.action)]\n",
    "            for leaf in leafs\n",
    "        ],\n",
    "    ],\n",
    "    \"value\": [\n",
    "        *[\n",
    "            section.report_count\n",
    "            for section in section_roots\n",
    "        ],\n",
    "        *[\n",
    "            leaf.report_count\n",
    "            for leaf in leafs\n",
    "        ],\n",
    "    ],\n",
    "}\n",
    "\n",
    "fig = go.Figure(data=[go.Sankey(\n",
    "    valueformat = \".0f\",\n",
    "    valuesuffix = \" Reports\",\n",
    "    node = node,\n",
    "    link = link,\n",
    ")])\n",
    "\n",
    "fig.update_layout(title_text=\"\", font_size=10, height=1500)\n",
    "\n",
    "fig.show()"
   ]
  }
 ],
 "metadata": {
  "kernelspec": {
   "display_name": "Python 3 (ipykernel)",
   "language": "python",
   "name": "python3"
  },
  "language_info": {
   "codemirror_mode": {
    "name": "ipython",
    "version": 3
   },
   "file_extension": ".py",
   "mimetype": "text/x-python",
   "name": "python",
   "nbconvert_exporter": "python",
   "pygments_lexer": "ipython3",
   "version": "3.10.6"
  }
 },
 "nbformat": 4,
 "nbformat_minor": 5
}
