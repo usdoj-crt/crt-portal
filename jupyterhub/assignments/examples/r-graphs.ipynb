{
 "cells": [
  {
   "cell_type": "markdown",
   "id": "73c68748-b6b1-4afb-8425-601466364c5e",
   "metadata": {},
   "source": [
    "# R Example Using Graphs\n",
    "\n",
    "Taken straight from: https://r-graph-gallery.com/297-circular-barplot-with-groups.html"
   ]
  },
  {
   "cell_type": "code",
   "execution_count": null,
   "id": "40dea648-a0b9-472c-b213-8239d220fd16",
   "metadata": {
    "tags": []
   },
   "outputs": [],
   "source": [
    "# library\n",
    "library(tidyverse)\n",
    " \n",
    "# Create dataset\n",
    "data <- data.frame(\n",
    "  individual=paste( \"Mister \", seq(1,60), sep=\"\"),\n",
    "  value=sample( seq(10,100), 60, replace=T)\n",
    ")\n",
    " \n",
    "# Set a number of 'empty bar'\n",
    "empty_bar <- 10\n",
    " \n",
    "# Add lines to the initial dataset\n",
    "to_add <- matrix(NA, empty_bar, ncol(data))\n",
    "colnames(to_add) <- colnames(data)\n",
    "data <- rbind(data, to_add)\n",
    "data$id <- seq(1, nrow(data))\n",
    " \n",
    "# Get the name and the y position of each label\n",
    "label_data <- data\n",
    "number_of_bar <- nrow(label_data)\n",
    "angle <- 90 - 360 * (label_data$id-0.5) /number_of_bar     # I substract 0.5 because the letter must have the angle of the center of the bars. Not extreme right(1) or extreme left (0)\n",
    "label_data$hjust <- ifelse( angle < -90, 1, 0)\n",
    "label_data$angle <- ifelse(angle < -90, angle+180, angle)\n",
    " \n",
    "# Make the plot\n",
    "p <- ggplot(data, aes(x=as.factor(id), y=value)) +       # Note that id is a factor. If x is numeric, there is some space between the first bar\n",
    "  geom_bar(stat=\"identity\", fill=alpha(\"green\", 0.3)) +\n",
    "  ylim(-100,120) +\n",
    "  theme_minimal() +\n",
    "  theme(\n",
    "    axis.text = element_blank(),\n",
    "    axis.title = element_blank(),\n",
    "    panel.grid = element_blank(),\n",
    "    plot.margin = unit(rep(-1,4), \"cm\") \n",
    "  ) +\n",
    "  coord_polar(start = 0) + \n",
    "  geom_text(data=label_data, aes(x=id, y=value+10, label=individual, hjust=hjust), color=\"black\", fontface=\"bold\",alpha=0.6, size=2.5, angle= label_data$angle, inherit.aes = FALSE ) \n",
    " \n",
    "p"
   ]
  }
 ],
 "metadata": {
  "kernelspec": {
   "display_name": "R",
   "language": "R",
   "name": "ir"
  },
  "language_info": {
   "codemirror_mode": "r",
   "file_extension": ".r",
   "mimetype": "text/x-r-source",
   "name": "R",
   "pygments_lexer": "r",
   "version": "4.1.2"
  }
 },
 "nbformat": 4,
 "nbformat_minor": 5
}
