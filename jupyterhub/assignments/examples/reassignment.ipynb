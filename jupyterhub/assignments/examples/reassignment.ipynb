{
 "cells": [
  {
   "cell_type": "markdown",
   "id": "0696d947-bca5-4e9a-8614-2ee7a386e54f",
   "metadata": {},
   "source": [
    "# Reassignment by Section\n",
    "\n",
    "Here's a look at the initial assignment of reports, and the flow of reports between sections:"
   ]
  },
  {
   "cell_type": "code",
   "execution_count": null,
   "id": "f9c40fea-40b7-407b-adf4-1ec164f96cd8",
   "metadata": {},
   "outputs": [],
   "source": [
    "%load_ext sql\n",
    "%config SqlMagic.feedback = False\n",
    "%config SqlMagic.displaycon = False"
   ]
  },
  {
   "cell_type": "markdown",
   "id": "a9ed25e4-30cc-48ed-88b9-21c502d1bdae",
   "metadata": {},
   "source": [
    "## Getting our Data\n",
    "\n",
    "We want to organize the data based on sections. Specifically, we want to see:\n",
    "- The total **count** of reassignments\n",
    "- The section the report was assigned to **before**\n",
    "- The section the report is assigned to **after**\n",
    "\n",
    "We'll expliticly exclude cases where **before** is the same as **after**, because those don't quite make sense to graph.We'll expliticly exclude cases where **before** is the same as **after**, because those don't quite make sense for the trends we're looking for.\n",
    "\n",
    "Since the actstream table stores reassignments in a string (\"Updated from BEFORE to AFTER\"), we can do that with a quick bit of SQL."
   ]
  },
  {
   "cell_type": "code",
   "execution_count": null,
   "id": "0e607a2e-ddc8-46ba-b7d7-7ed0d4975448",
   "metadata": {},
   "outputs": [],
   "source": [
    "%%sql --save reassignments --no-execute\n",
    "\n",
    "SELECT\n",
    "    substring(a.description from '%Updated from \"#\"___#\"\"%' for '#') AS before,\n",
    "    substring(a.description from '%Updated from \"___\" to \"#\"___#\"\"%' for '#') AS after,\n",
    "    COUNT(1) count\n",
    "FROM actstream_action a\n",
    "WHERE verb='Assigned section:'\n",
    "GROUP BY before, after"
   ]
  },
  {
   "cell_type": "code",
   "execution_count": null,
   "id": "1f2e1e17-534d-4180-a580-e3c5f89e2f1e",
   "metadata": {},
   "outputs": [],
   "source": [
    "%%sql --with reassignments\n",
    "\n",
    "SELECT * FROM reassignments WHERE before != after ORDER BY before"
   ]
  },
  {
   "cell_type": "markdown",
   "id": "a88756c7-0c44-4c80-bdf0-0e7edd4ad02e",
   "metadata": {},
   "source": [
    "## Preparing for the Graph\n",
    "\n",
    "Next, let's run some python on the data to get it ready for graphing.\n",
    "\n",
    "We'll need to get ready:\n",
    "- Some info to show for each of the sections on the outside of the ring (a label, count info, etc).\n",
    "- The connections between the sections, organized in a way that the graph can use it.\n",
    "- A title for the graph"
   ]
  },
  {
   "cell_type": "markdown",
   "id": "8f3429d7-4b77-4be9-b13d-2a5bd7c6ed30",
   "metadata": {},
   "source": [
    "First, let's bring in some libraries and list the sections and grab the data from our table above:"
   ]
  },
  {
   "cell_type": "code",
   "execution_count": null,
   "id": "f85357bb-411d-4b57-bdcb-89aa079e0e79",
   "metadata": {},
   "outputs": [],
   "source": [
    "import pandas\n",
    "import holoviews\n",
    "\n",
    "SECTIONS = ['ADM', 'APP', 'CRM', 'DRS', 'ELS', 'EOS', 'FCS', 'HCE', 'IER', 'POL', 'SPL', 'VOT']\n",
    "\n",
    "reassignments_sql = %sql --with reassignments SELECT * FROM reassignments WHERE before != after ORDER BY before;\n",
    "reassignments = reassignments_sql.DataFrame().fillna(0)"
   ]
  },
  {
   "cell_type": "markdown",
   "id": "6ffa15af-5036-46ac-9e4b-e8b854cc7691",
   "metadata": {},
   "source": [
    "### Section Info\n",
    "\n",
    "First, let's define what our sections are. We'll give each one:\n",
    "- A name\n",
    "- A numerical **index** (which we'll just make the order it appears in the list above)\n",
    "- Info to be displayed when you mouse over the section, namely:\n",
    "  - How many total reassignments that section made\n",
    "  - How many assignments it sent to each section"
   ]
  },
  {
   "cell_type": "code",
   "execution_count": null,
   "id": "7024235b-7a3b-4d7f-9824-7043a5119f22",
   "metadata": {},
   "outputs": [],
   "source": [
    "section_info = [\n",
    "    {\n",
    "        'name': this_section,\n",
    "        'index': index,\n",
    "        'Total Reassignments': reassignments[reassignments['before'] == this_section]['count'].sum(),\n",
    "        **{\n",
    "            f'Sent to {after}:': reassignments[(reassignments['before'] == this_section) & (reassignments['after'] == after)]['count'].sum()\n",
    "            for after in SECTIONS\n",
    "        }\n",
    "    }\n",
    "    for index, this_section\n",
    "    in enumerate(SECTIONS)\n",
    "]\n",
    "\n",
    "nodes = holoviews.Dataset(pandas.DataFrame(section_info).fillna(0), 'index')"
   ]
  },
  {
   "cell_type": "markdown",
   "id": "e769cb7e-90ba-48a2-ad55-a2e8b57637a8",
   "metadata": {},
   "source": [
    "### Connections\n",
    "\n",
    "Let's tell the graph what each of the links should be. This needs:\n",
    "- A **source** section (the position of the **before** section in the list above) \n",
    "- A **target** section (the position of the **after** section in the list above)\n",
    "- The **value** of that link (the number of reports referred from the source to the target section)"
   ]
  },
  {
   "cell_type": "code",
   "execution_count": null,
   "id": "aa616da4-93cf-44b5-923a-46e309309e02",
   "metadata": {},
   "outputs": [],
   "source": [
    "reassignments['source'] = reassignments['before'].apply(lambda b: SECTIONS.index(b))\n",
    "reassignments['index'] = reassignments['source']\n",
    "reassignments['target'] = reassignments['after'].apply(lambda a: SECTIONS.index(a))\n",
    "reassignments['value'] = reassignments['count']\n",
    "\n",
    "links = reassignments[['source', 'target', 'value']]"
   ]
  },
  {
   "cell_type": "markdown",
   "id": "e1cebe8f-9458-4eea-94f1-8d6242306ee1",
   "metadata": {},
   "source": [
    "### Title\n",
    "\n",
    "Finally, let's add a title for the graph that includes the total number of reassignments."
   ]
  },
  {
   "cell_type": "code",
   "execution_count": null,
   "id": "7d29b011-132e-4f7a-be62-2b83771aeca9",
   "metadata": {},
   "outputs": [],
   "source": [
    "count_of_all = reassignments['value'].sum()\n",
    "\n",
    "title = f\"Reassignments between sections ({count_of_all} total)\""
   ]
  },
  {
   "cell_type": "markdown",
   "id": "d5a1cb5d-915a-49ae-aa06-e94d76d61bbe",
   "metadata": {},
   "source": [
    "## Graphing!\n",
    "\n",
    "Now that we have our nodes, links, and title, we can go ahead and plug that into the graph.\n",
    "\n",
    "We'll also add some options for colors (based on the section the report was in **before** the reassignment):"
   ]
  },
  {
   "cell_type": "code",
   "execution_count": null,
   "id": "7cff9e22-fd8f-4116-bd9b-458f28f02088",
   "metadata": {},
   "outputs": [],
   "source": [
    "holoviews.extension('bokeh')\n",
    "holoviews.output(size=300)\n",
    "\n",
    "chord = holoviews.Chord((links, nodes))\n",
    "chord.opts(\n",
    "    holoviews.opts.Chord(\n",
    "        title=title,\n",
    "        labels='name',\n",
    "        cmap='Category20', edge_cmap='Category20',\n",
    "        edge_color=holoviews.dim('source').str(), node_color=holoviews.dim('index').str(),\n",
    "))"
   ]
  },
  {
   "cell_type": "code",
   "execution_count": null,
   "id": "e6c20c97-0828-4305-bd5b-5a445566fc33",
   "metadata": {},
   "outputs": [],
   "source": []
  }
 ],
 "metadata": {
  "kernelspec": {
   "display_name": "Python 3 (ipykernel)",
   "language": "python",
   "name": "python3"
  },
  "language_info": {
   "codemirror_mode": {
    "name": "ipython",
    "version": 3
   },
   "file_extension": ".py",
   "mimetype": "text/x-python",
   "name": "python",
   "nbconvert_exporter": "python",
   "pygments_lexer": "ipython3",
   "version": "3.10.6"
  }
 },
 "nbformat": 4,
 "nbformat_minor": 5
}
