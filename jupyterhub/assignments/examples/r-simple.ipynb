{
 "cells": [
  {
   "cell_type": "markdown",
   "id": "6c9d1ecb-d6ee-49f6-9ea3-aaf3451ad123",
   "metadata": {},
   "source": [
    "# R Simple Example\n",
    "\n",
    "The simplest R example!"
   ]
  },
  {
   "cell_type": "markdown",
   "id": "081d0317-3987-46e3-a56d-8d04ca7da857",
   "metadata": {},
   "source": [
    "## First, make a vector:"
   ]
  },
  {
   "cell_type": "code",
   "execution_count": null,
   "id": "b89a6ea1-e17c-4d89-a4dd-6b219106f3d6",
   "metadata": {
    "tags": []
   },
   "outputs": [],
   "source": [
    "x <- c(5,8,3,9,2,7,4,6,10)\n",
    "print(x)"
   ]
  },
  {
   "cell_type": "markdown",
   "id": "de088814-d535-4205-a516-7ad0a0ec30c7",
   "metadata": {},
   "source": [
    "## Find simple stats about that vector:"
   ]
  },
  {
   "cell_type": "code",
   "execution_count": null,
   "id": "2461ddbe-41d7-4d81-a6e4-b68283f799d5",
   "metadata": {
    "tags": []
   },
   "outputs": [],
   "source": [
    "min(x)\n",
    "max(x)\n",
    "range(x)"
   ]
  }
 ],
 "metadata": {
  "kernelspec": {
   "display_name": "R",
   "language": "R",
   "name": "ir"
  },
  "language_info": {
   "codemirror_mode": "r",
   "file_extension": ".r",
   "mimetype": "text/x-r-source",
   "name": "R",
   "pygments_lexer": "r",
   "version": "4.1.2"
  }
 },
 "nbformat": 4,
 "nbformat_minor": 5
}
