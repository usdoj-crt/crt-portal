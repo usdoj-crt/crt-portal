{
 "cells": [
  {
   "cell_type": "markdown",
   "id": "6c9d1ecb-d6ee-49f6-9ea3-aaf3451ad123",
   "metadata": {},
   "source": [
    "# R Simple Example\n",
    "\n",
    "The simplest R example!"
   ]
  },
  {
   "cell_type": "markdown",
   "id": "081d0317-3987-46e3-a56d-8d04ca7da857",
   "metadata": {},
   "source": [
    "## First, make a vector:"
   ]
  },
  {
   "cell_type": "code",
   "execution_count": 2,
   "id": "b89a6ea1-e17c-4d89-a4dd-6b219106f3d6",
   "metadata": {
    "tags": []
   },
   "outputs": [
    {
     "name": "stdout",
     "output_type": "stream",
     "text": [
      "[1]  5  8  3  9  2  7  4  6 10\n"
     ]
    }
   ],
   "source": [
    "x <- c(5,8,3,9,2,7,4,6,10)\n",
    "print(x)"
   ]
  },
  {
   "cell_type": "markdown",
   "id": "de088814-d535-4205-a516-7ad0a0ec30c7",
   "metadata": {},
   "source": [
    "## Find simple stats about that vector:"
   ]
  },
  {
   "cell_type": "code",
   "execution_count": 3,
   "id": "2461ddbe-41d7-4d81-a6e4-b68283f799d5",
   "metadata": {
    "tags": []
   },
   "outputs": [
    {
     "data": {
      "text/html": [
       "2"
      ],
      "text/latex": [
       "2"
      ],
      "text/markdown": [
       "2"
      ],
      "text/plain": [
       "[1] 2"
      ]
     },
     "metadata": {},
     "output_type": "display_data"
    },
    {
     "data": {
      "text/html": [
       "10"
      ],
      "text/latex": [
       "10"
      ],
      "text/markdown": [
       "10"
      ],
      "text/plain": [
       "[1] 10"
      ]
     },
     "metadata": {},
     "output_type": "display_data"
    },
    {
     "data": {
      "text/html": [
       "<style>\n",
       ".list-inline {list-style: none; margin:0; padding: 0}\n",
       ".list-inline>li {display: inline-block}\n",
       ".list-inline>li:not(:last-child)::after {content: \"\\00b7\"; padding: 0 .5ex}\n",
       "</style>\n",
       "<ol class=list-inline><li>2</li><li>10</li></ol>\n"
      ],
      "text/latex": [
       "\\begin{enumerate*}\n",
       "\\item 2\n",
       "\\item 10\n",
       "\\end{enumerate*}\n"
      ],
      "text/markdown": [
       "1. 2\n",
       "2. 10\n",
       "\n",
       "\n"
      ],
      "text/plain": [
       "[1]  2 10"
      ]
     },
     "metadata": {},
     "output_type": "display_data"
    }
   ],
   "source": [
    "min(x)\n",
    "max(x)\n",
    "range(x)"
   ]
  }
 ],
 "metadata": {
  "kernelspec": {
   "display_name": "R",
   "language": "R",
   "name": "ir"
  },
  "language_info": {
   "codemirror_mode": "r",
   "file_extension": ".r",
   "mimetype": "text/x-r-source",
   "name": "R",
   "pygments_lexer": "r",
   "version": "4.1.2"
  }
 },
 "nbformat": 4,
 "nbformat_minor": 5
}
