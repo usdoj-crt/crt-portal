{
 "cells": [
  {
   "cell_type": "markdown",
   "id": "e8dc13a6-d9e7-4824-b96e-cd05c511b73b",
   "metadata": {},
   "source": [
    "# Connecting to a database in R"
   ]
  },
  {
   "cell_type": "code",
   "execution_count": null,
   "id": "71f3eee1-de2f-4b1d-9722-4f57a19f9cd9",
   "metadata": {},
   "outputs": [],
   "source": [
    "library(RPostgreSQL)\n",
    "\n",
    "tryCatch({\n",
    "    drv <- dbDriver(\"PostgreSQL\")\n",
    "    conn <- dbConnect(drv, \n",
    "                 dbname = \"postgres\",\n",
    "                 host = Sys.getenv(\"DATABASE_HOSTNAME\"), \n",
    "                 port = Sys.getenv(\"DATABASE_PORT\"),\n",
    "                 user = Sys.getenv(\"DATABASE_USER\"), \n",
    "                 password = Sys.getenv(\"DATABASE_PASSWORD\"))\n",
    "    print(\"Connected!\")\n",
    "    },\n",
    "    error=function(cond) {\n",
    "            print(\"Unable to connect to database.\")\n",
    "    })"
   ]
  },
  {
   "cell_type": "code",
   "execution_count": null,
   "id": "f42ca808-3055-48ff-8e4c-d1c89164adad",
   "metadata": {},
   "outputs": [],
   "source": [
    "sections <- dbGetQuery(conn, \"SELECT assigned_section, count(*) FROM cts_forms_report GROUP BY assigned_section\")\n",
    "sections\n",
    "summary(sections)"
   ]
  },
  {
   "cell_type": "code",
   "execution_count": null,
   "id": "f047f5b9-86f3-44e4-a3ed-dbb542a656c2",
   "metadata": {},
   "outputs": [],
   "source": [
    "section_names <- sections[,1]\n",
    "section_counts <- sections[,2]"
   ]
  },
  {
   "cell_type": "code",
   "execution_count": null,
   "id": "261059a5-b4a6-4b9e-b7fc-2a201cfc42c1",
   "metadata": {},
   "outputs": [],
   "source": [
    "barplot(section_counts,xlab='Section',ylab='Number of Reports',main='Reports by Section', names.arg=section_names)\n"
   ]
  }
 ],
 "metadata": {
  "kernelspec": {
   "display_name": "R",
   "language": "R",
   "name": "ir"
  },
  "language_info": {
   "codemirror_mode": "r",
   "file_extension": ".r",
   "mimetype": "text/x-r-source",
   "name": "R",
   "pygments_lexer": "r",
   "version": "4.1.2"
  }
 },
 "nbformat": 4,
 "nbformat_minor": 5
}
