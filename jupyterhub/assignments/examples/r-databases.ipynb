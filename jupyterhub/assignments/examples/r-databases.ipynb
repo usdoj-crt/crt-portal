{
 "cells": [
  {
   "cell_type": "markdown",
   "id": "e8dc13a6-d9e7-4824-b96e-cd05c511b73b",
   "metadata": {},
   "source": [
    "# Connecting to a database in R"
   ]
  },
  {
   "cell_type": "code",
   "execution_count": 1,
   "id": "71f3eee1-de2f-4b1d-9722-4f57a19f9cd9",
   "metadata": {},
   "outputs": [
    {
     "name": "stderr",
     "output_type": "stream",
     "text": [
      "Loading required package: DBI\n",
      "\n"
     ]
    },
    {
     "name": "stdout",
     "output_type": "stream",
     "text": [
      "[1] \"Connected!\"\n"
     ]
    }
   ],
   "source": [
    "library(RPostgreSQL)\n",
    "\n",
    "tryCatch({\n",
    "    drv <- dbDriver(\"PostgreSQL\")\n",
    "    conn <- dbConnect(drv, \n",
    "                 dbname = \"postgres\",\n",
    "                 host = Sys.getenv(\"DATABASE_HOSTNAME\"), \n",
    "                 port = Sys.getenv(\"DATABASE_PORT\"),\n",
    "                 user = Sys.getenv(\"DATABASE_USER\"), \n",
    "                 password = Sys.getenv(\"DATABASE_PASSWORD\"))\n",
    "    print(\"Connected!\")\n",
    "    },\n",
    "    error=function(cond) {\n",
    "            print(\"Unable to connect to database.\")\n",
    "    })"
   ]
  },
  {
   "cell_type": "code",
   "execution_count": 12,
   "id": "f42ca808-3055-48ff-8e4c-d1c89164adad",
   "metadata": {},
   "outputs": [
    {
     "data": {
      "text/html": [
       "<table class=\"dataframe\">\n",
       "<caption>A data.frame: 12 × 2</caption>\n",
       "<thead>\n",
       "\t<tr><th></th><th scope=col>assigned_section</th><th scope=col>count</th></tr>\n",
       "\t<tr><th></th><th scope=col>&lt;chr&gt;</th><th scope=col>&lt;dbl&gt;</th></tr>\n",
       "</thead>\n",
       "<tbody>\n",
       "\t<tr><th scope=row>1</th><td>ADM</td><td>417</td></tr>\n",
       "\t<tr><th scope=row>2</th><td>EOS</td><td>434</td></tr>\n",
       "\t<tr><th scope=row>3</th><td>IER</td><td>413</td></tr>\n",
       "\t<tr><th scope=row>4</th><td>SPL</td><td>449</td></tr>\n",
       "\t<tr><th scope=row>5</th><td>HCE</td><td>436</td></tr>\n",
       "\t<tr><th scope=row>6</th><td>POL</td><td>429</td></tr>\n",
       "\t<tr><th scope=row>7</th><td>APP</td><td>435</td></tr>\n",
       "\t<tr><th scope=row>8</th><td>FCS</td><td>420</td></tr>\n",
       "\t<tr><th scope=row>9</th><td>DRS</td><td>432</td></tr>\n",
       "\t<tr><th scope=row>10</th><td>ELS</td><td>433</td></tr>\n",
       "\t<tr><th scope=row>11</th><td>CRM</td><td>404</td></tr>\n",
       "\t<tr><th scope=row>12</th><td>VOT</td><td>418</td></tr>\n",
       "</tbody>\n",
       "</table>\n"
      ],
      "text/latex": [
       "A data.frame: 12 × 2\n",
       "\\begin{tabular}{r|ll}\n",
       "  & assigned\\_section & count\\\\\n",
       "  & <chr> & <dbl>\\\\\n",
       "\\hline\n",
       "\t1 & ADM & 417\\\\\n",
       "\t2 & EOS & 434\\\\\n",
       "\t3 & IER & 413\\\\\n",
       "\t4 & SPL & 449\\\\\n",
       "\t5 & HCE & 436\\\\\n",
       "\t6 & POL & 429\\\\\n",
       "\t7 & APP & 435\\\\\n",
       "\t8 & FCS & 420\\\\\n",
       "\t9 & DRS & 432\\\\\n",
       "\t10 & ELS & 433\\\\\n",
       "\t11 & CRM & 404\\\\\n",
       "\t12 & VOT & 418\\\\\n",
       "\\end{tabular}\n"
      ],
      "text/markdown": [
       "\n",
       "A data.frame: 12 × 2\n",
       "\n",
       "| <!--/--> | assigned_section &lt;chr&gt; | count &lt;dbl&gt; |\n",
       "|---|---|---|\n",
       "| 1 | ADM | 417 |\n",
       "| 2 | EOS | 434 |\n",
       "| 3 | IER | 413 |\n",
       "| 4 | SPL | 449 |\n",
       "| 5 | HCE | 436 |\n",
       "| 6 | POL | 429 |\n",
       "| 7 | APP | 435 |\n",
       "| 8 | FCS | 420 |\n",
       "| 9 | DRS | 432 |\n",
       "| 10 | ELS | 433 |\n",
       "| 11 | CRM | 404 |\n",
       "| 12 | VOT | 418 |\n",
       "\n"
      ],
      "text/plain": [
       "   assigned_section count\n",
       "1  ADM              417  \n",
       "2  EOS              434  \n",
       "3  IER              413  \n",
       "4  SPL              449  \n",
       "5  HCE              436  \n",
       "6  POL              429  \n",
       "7  APP              435  \n",
       "8  FCS              420  \n",
       "9  DRS              432  \n",
       "10 ELS              433  \n",
       "11 CRM              404  \n",
       "12 VOT              418  "
      ]
     },
     "metadata": {},
     "output_type": "display_data"
    },
    {
     "data": {
      "text/plain": [
       " assigned_section       count      \n",
       " Length:12          Min.   :404.0  \n",
       " Class :character   1st Qu.:417.8  \n",
       " Mode  :character   Median :430.5  \n",
       "                    Mean   :426.7  \n",
       "                    3rd Qu.:434.2  \n",
       "                    Max.   :449.0  "
      ]
     },
     "metadata": {},
     "output_type": "display_data"
    }
   ],
   "source": [
    "sections <- dbGetQuery(conn, \"SELECT assigned_section, count(*) FROM cts_forms_report GROUP BY assigned_section\")\n",
    "sections\n",
    "summary(sections)"
   ]
  },
  {
   "cell_type": "code",
   "execution_count": 17,
   "id": "f047f5b9-86f3-44e4-a3ed-dbb542a656c2",
   "metadata": {},
   "outputs": [],
   "source": [
    "section_names <- sections[,1]\n",
    "section_counts <- sections[,2]"
   ]
  },
  {
   "cell_type": "code",
   "execution_count": 21,
   "id": "261059a5-b4a6-4b9e-b7fc-2a201cfc42c1",
   "metadata": {},
   "outputs": [
    {
     "data": {
      "image/png": "[encoded data removed]",
      "text/plain": [
       "Plot with title “Reports by Section”"
      ]
     },
     "metadata": {
      "image/png": {
       "height": 420,
       "width": 420
      }
     },
     "output_type": "display_data"
    }
   ],
   "source": [
    "barplot(section_counts,xlab='Section',ylab='Number of Reports',main='Reports by Section', names.arg=section_names)\n"
   ]
  }
 ],
 "metadata": {
  "kernelspec": {
   "display_name": "R",
   "language": "R",
   "name": "ir"
  },
  "language_info": {
   "codemirror_mode": "r",
   "file_extension": ".r",
   "mimetype": "text/x-r-source",
   "name": "R",
   "pygments_lexer": "r",
   "version": "4.1.2"
  }
 },
 "nbformat": 4,
 "nbformat_minor": 5
}
