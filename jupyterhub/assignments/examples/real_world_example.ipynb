{
 "cells": [
  {
   "cell_type": "markdown",
   "id": "16712717-1e76-4f8b-a95c-c679d421e8b8",
   "metadata": {
    "tags": [
     "hide"
    ]
   },
   "source": [
    "# A Real-world Example\n",
    "\n",
    "\n",
    "\n",
    "Let's look at an example in the context of our actual data."
   ]
  },
  {
   "cell_type": "markdown",
   "id": "299a25aa-9302-4f3a-ba30-e9b03f208bb4",
   "metadata": {
    "tags": []
   },
   "source": [
    "## Constant Writer Responses\n",
    "\n",
    "\n",
    "\n",
    "How many reports have been sent constant writer notifications?"
   ]
  },
  {
   "cell_type": "markdown",
   "id": "2db6f152-d178-4d33-b676-ba172b77d21b",
   "metadata": {
    "tags": [
     "hide"
    ]
   },
   "source": [
    "### Setup and Code"
   ]
  },
  {
   "cell_type": "code",
   "execution_count": null,
   "id": "991040e2-fc5a-449d-93f6-2b863f30f72f",
   "metadata": {
    "tags": [
     "hide"
    ]
   },
   "outputs": [],
   "source": [
    "%load_ext sql\n",
    "\n",
    "%config SqlMagic.feedback = False\n",
    "\n",
    "%config SqlMagic.displaycon = False"
   ]
  },
  {
   "cell_type": "markdown",
   "id": "c1c68579-825a-41ee-b90e-6fa89c32bdda",
   "metadata": {
    "tags": [
     "hide"
    ]
   },
   "source": [
    "First we'll set up a quick reporting table with flags as to whether we've printed/sent the constant writer template"
   ]
  },
  {
   "cell_type": "code",
   "execution_count": null,
   "id": "3d52ea29-dca7-450a-a78d-d5302b483e04",
   "metadata": {
    "tags": [
     "hide"
    ]
   },
   "outputs": [],
   "source": [
    "%%sql --save cw_responses --no-execute\n",
    "\n",
    "SELECT \n",
    "  r.id,\n",
    "  r.assigned_section,\n",
    "  CASE WHEN a.description = 'Printed ''CRT - Constant Writer'' template' THEN true ELSE false END AS printed_cw,\n",
    "  CASE WHEN a.verb = 'Contacted complainant:' AND a.description LIKE '%Constant Writer%' THEN true ELSE false END AS sent_cw\n",
    "FROM cts_forms_report r\n",
    "LEFT JOIN actstream_action a\n",
    "ON r.id::TEXT = a.target_object_id"
   ]
  },
  {
   "cell_type": "markdown",
   "id": "58a82b24-54f8-40e8-8c88-6edf3a2c203b",
   "metadata": {
    "tags": [
     "hide"
    ]
   },
   "source": [
    "And let's pre-organize that for the bar chart..."
   ]
  },
  {
   "cell_type": "code",
   "execution_count": null,
   "id": "bbb4b4a8-21fb-43da-b28b-1b787a26e4c5",
   "metadata": {
    "tags": [
     "hide"
    ]
   },
   "outputs": [],
   "source": [
    "def get_counts(*, section='(any)'):\n",
    "    counts = %sql --with cw_responses SELECT \\\n",
    "            SUM(CASE WHEN printed_cw AND sent_cw THEN 1 ELSE 0 END) AS both, \\\n",
    "            SUM(CASE WHEN printed_cw AND NOT sent_cw THEN 1 ELSE 0 END) AS printed_only, \\\n",
    "            SUM(CASE WHEN NOT printed_cw AND sent_cw THEN 1 ELSE 0 END) AS sent_only, \\\n",
    "            SUM(CASE WHEN NOT printed_cw AND NOT sent_cw THEN 1 ELSE 0 END) AS neither, \\\n",
    "            COUNT(*) total \\\n",
    "            FROM cw_responses \\\n",
    "            WHERE \\\n",
    "            '{{section}}' = '(any)' \\\n",
    "            OR ('{{section}}' != '(any)' AND assigned_section='{{section}}');\n",
    "\n",
    "    return counts.DataFrame()\n",
    "\n",
    "get_counts()"
   ]
  },
  {
   "cell_type": "markdown",
   "id": "d972c0ce-0aef-4776-b525-af677ac8b976",
   "metadata": {
    "tags": [
     "hide"
    ]
   },
   "source": [
    "### Display\n",
    "\n",
    "\n",
    "\n",
    "Let's display that - a pie chart will work nicely to show the share of printed vs sent vs nothing"
   ]
  },
  {
   "cell_type": "code",
   "execution_count": null,
   "id": "f7b87159-5c14-4340-b09c-fd7b97fb114d",
   "metadata": {
    "tags": [
     "hide_input"
    ]
   },
   "outputs": [],
   "source": [
    "import matplotlib.pyplot as plt\n",
    "\n",
    "plt.rcParams['figure.figsize'] = [4, 4]\n",
    "\n",
    "# Pie chart, where the slices will be ordered and plotted counter-clockwise:\n",
    "\n",
    "def make_cw_pie(*, section='(any)', show_no_response=True, scale=1):\n",
    "    labels = ['Printed', 'Mailed', 'Printed & Mailed']\n",
    "    counts = get_counts(section=section)\n",
    "    sizes = [counts.printed_only[0], counts.sent_only[0], counts.both[0]]\n",
    "    explode = [0.05, 0.05, 0.05]  # Pull out the CW slices\n",
    "    if show_no_response:\n",
    "        labels.append('No CW Response')\n",
    "        sizes.append(counts.neither[0])\n",
    "        explode.append(0)\n",
    "\n",
    "    fig1, ax1 = plt.subplots()\n",
    "    ax1.pie(sizes, radius=0.2, explode=explode, labels=labels, autopct='%1.1f%%', startangle=0, rotatelabels=True, labeldistance=1.2, pctdistance=1.1)\n",
    "    ax1.set_title(f'CW Responses for section: {section}')\n",
    "    ax1.axis('equal')  # Equal aspect ratio ensures that pie is drawn as a circle.\n",
    "    return plt\n",
    "\n",
    "cw_pie = make_cw_pie()\n",
    "cw_pie.show()"
   ]
  },
  {
   "cell_type": "markdown",
   "id": "3c562a3a-5e33-4478-afd0-9a4e09091f21",
   "metadata": {
    "tags": [
     "hide"
    ]
   },
   "source": [
    "### Let's get fancy\n",
    "\n",
    "\n",
    "\n",
    "Now, say we wanted to demonstrate that by section, in real time..."
   ]
  },
  {
   "cell_type": "code",
   "execution_count": null,
   "id": "90812d48-d4da-4105-82d3-bc20480bc2e9",
   "metadata": {
    "tags": [
     "hide"
    ]
   },
   "outputs": [],
   "source": [
    "import ipywidgets\n",
    "\n",
    "sections = %sql --with cw_responses SELECT assigned_section FROM cw_responses GROUP BY 1;\n",
    "sections = sections.DataFrame().assigned_section\n",
    "section_dropdown = ipywidgets.Dropdown(\n",
    "    options=['(any)', *sections],\n",
    "    value='(any)',\n",
    "    description='Assigned Section:',\n",
    "    disabled=False,\n",
    ")\n",
    "\n",
    "show_no_response_checkbox = ipywidgets.Checkbox(True, description='Show \"No CW Response\"')\n",
    "\n",
    "def observe_dropdown(*, section, show_no_response):\n",
    "    plt.rcParams['figure.figsize'] = [4, 4]\n",
    "    cw_pie = make_cw_pie(section=section, show_no_response=show_no_response)\n",
    "    cw_pie.show()\n",
    "\n",
    "ipywidgets.interact(observe_dropdown, section=section_dropdown, show_no_response=show_no_response_checkbox)"
   ]
  },
  {
   "cell_type": "markdown",
   "id": "59d5705f-6af9-44ae-9bc0-bcf14f58394f",
   "metadata": {},
   "source": [
    "Or, maybe we just want to see all of the sections at once:"
   ]
  },
  {
   "cell_type": "code",
   "execution_count": null,
   "id": "dae31a70-cc8d-4668-99a8-550839caa916",
   "metadata": {
    "tags": [
     "hide_input"
    ]
   },
   "outputs": [],
   "source": [
    "plt.rcParams['figure.figsize'] = [2, 2]\n",
    "charts = [make_cw_pie(section=section) for section in sections]\n",
    "for chart in charts:\n",
    "    chart.show()"
   ]
  },
  {
   "cell_type": "code",
   "execution_count": null,
   "id": "3842a33f-0548-4927-bd08-39a9c41a40e1",
   "metadata": {
    "tags": [
     "hide"
    ]
   },
   "outputs": [],
   "source": []
  }
 ],
 "metadata": {
  "export_embed": true,
  "kernelspec": {
   "display_name": "Python 3 (ipykernel)",
   "language": "python",
   "name": "python3"
  },
  "language_info": {
   "codemirror_mode": {
    "name": "ipython",
    "version": 3
   },
   "file_extension": ".py",
   "mimetype": "text/x-python",
   "name": "python",
   "nbconvert_exporter": "python",
   "pygments_lexer": "ipython3",
   "version": "3.10.6"
  }
 },
 "nbformat": 4,
 "nbformat_minor": 5
}
