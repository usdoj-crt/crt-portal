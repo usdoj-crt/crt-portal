{
 "cells": [
  {
   "cell_type": "markdown",
   "id": "a3928a98-947b-4389-a8e2-5359d58c94b2",
   "metadata": {},
   "source": [
    "# Connecting to Databases"
   ]
  },
  {
   "cell_type": "markdown",
   "id": "99eeab58-795f-4dc9-821d-2c47ae090476",
   "metadata": {},
   "source": [
    "## Using R\n",
    "\n",
    "See examples/r-databases.ipynb for how to connect using R"
   ]
  },
  {
   "cell_type": "markdown",
   "id": "f2f8d924-3691-4ddc-bf56-15e1f862108a",
   "metadata": {
    "tags": []
   },
   "source": [
    "## Using plain SQL\n",
    "\n",
    "This will show us how to run raw sql against available databases."
   ]
  },
  {
   "cell_type": "markdown",
   "id": "64755d06-c5bc-4218-90d9-ca9b0bbf93b8",
   "metadata": {},
   "source": [
    "### Setting up\n",
    "\n",
    "First, we need to enable SQL:"
   ]
  },
  {
   "cell_type": "code",
   "execution_count": 13,
   "id": "2ff38665-e050-43bd-b0ac-57263d9fd6c6",
   "metadata": {
    "tags": []
   },
   "outputs": [
    {
     "name": "stdout",
     "output_type": "stream",
     "text": [
      "The sql extension is already loaded. To reload it, use:\n",
      "  %reload_ext sql\n"
     ]
    }
   ],
   "source": [
    "%load_ext sql"
   ]
  },
  {
   "cell_type": "markdown",
   "id": "51310828-2fc6-4c91-8367-e9ad436472a4",
   "metadata": {},
   "source": [
    "### Making queries in plain SQL\n",
    "\n",
    "Now that SQL is loaded, blocks whose first line is `%sql` will read as queries:"
   ]
  },
  {
   "cell_type": "code",
   "execution_count": 14,
   "id": "a22fa103-48ea-4631-92b9-fb8015e7a7bb",
   "metadata": {
    "tags": []
   },
   "outputs": [
    {
     "name": "stdout",
     "output_type": "stream",
     "text": [
      " * postgresql://analytics:***@db:5432/postgres\n",
      "Done.\n",
      "12 rows affected.\n",
      "12 rows affected.\n"
     ]
    },
    {
     "data": {
      "text/html": [
       "<table>\n",
       "    <tr>\n",
       "        <th>assigned_section</th>\n",
       "        <th>count</th>\n",
       "    </tr>\n",
       "    <tr>\n",
       "        <td>ADM</td>\n",
       "        <td>417</td>\n",
       "    </tr>\n",
       "    <tr>\n",
       "        <td>APP</td>\n",
       "        <td>435</td>\n",
       "    </tr>\n",
       "    <tr>\n",
       "        <td>CRM</td>\n",
       "        <td>404</td>\n",
       "    </tr>\n",
       "    <tr>\n",
       "        <td>DRS</td>\n",
       "        <td>432</td>\n",
       "    </tr>\n",
       "    <tr>\n",
       "        <td>ELS</td>\n",
       "        <td>433</td>\n",
       "    </tr>\n",
       "    <tr>\n",
       "        <td>EOS</td>\n",
       "        <td>434</td>\n",
       "    </tr>\n",
       "    <tr>\n",
       "        <td>FCS</td>\n",
       "        <td>420</td>\n",
       "    </tr>\n",
       "    <tr>\n",
       "        <td>HCE</td>\n",
       "        <td>436</td>\n",
       "    </tr>\n",
       "    <tr>\n",
       "        <td>IER</td>\n",
       "        <td>413</td>\n",
       "    </tr>\n",
       "    <tr>\n",
       "        <td>POL</td>\n",
       "        <td>429</td>\n",
       "    </tr>\n",
       "    <tr>\n",
       "        <td>SPL</td>\n",
       "        <td>449</td>\n",
       "    </tr>\n",
       "    <tr>\n",
       "        <td>VOT</td>\n",
       "        <td>418</td>\n",
       "    </tr>\n",
       "</table>"
      ],
      "text/plain": [
       "[('ADM', 417),\n",
       " ('APP', 435),\n",
       " ('CRM', 404),\n",
       " ('DRS', 432),\n",
       " ('ELS', 433),\n",
       " ('EOS', 434),\n",
       " ('FCS', 420),\n",
       " ('HCE', 436),\n",
       " ('IER', 413),\n",
       " ('POL', 429),\n",
       " ('SPL', 449),\n",
       " ('VOT', 418)]"
      ]
     },
     "execution_count": 14,
     "metadata": {},
     "output_type": "execute_result"
    }
   ],
   "source": [
    "%%sql\n",
    "DROP TABLE IF EXISTS section_counts;\n",
    "CREATE TEMP TABLE section_counts AS \n",
    "SELECT assigned_section, COUNT(*) FROM cts_forms_report\n",
    "-- WHERE status = 'new'\n",
    "GROUP BY assigned_section\n",
    "ORDER BY assigned_section;\n",
    "\n",
    "SELECT * FROM section_counts"
   ]
  },
  {
   "cell_type": "markdown",
   "id": "16b08c1a-0282-4d53-b957-f5bc805957a1",
   "metadata": {},
   "source": [
    "### Using the results\n",
    "\n",
    "You can then query the results directly into python variables for analysis:"
   ]
  },
  {
   "cell_type": "code",
   "execution_count": 15,
   "id": "a757f5d8-b2df-42cf-9742-bbadc8098c98",
   "metadata": {
    "tags": []
   },
   "outputs": [
    {
     "name": "stdout",
     "output_type": "stream",
     "text": [
      " * postgresql://analytics:***@db:5432/postgres\n",
      "12 rows affected.\n",
      "+------------------+-------+\n",
      "| assigned_section | count |\n",
      "+------------------+-------+\n",
      "|       ADM        |  417  |\n",
      "|       APP        |  435  |\n",
      "|       CRM        |  404  |\n",
      "|       DRS        |  432  |\n",
      "|       ELS        |  433  |\n",
      "|       EOS        |  434  |\n",
      "|       FCS        |  420  |\n",
      "|       HCE        |  436  |\n",
      "|       IER        |  413  |\n",
      "|       POL        |  429  |\n",
      "|       SPL        |  449  |\n",
      "|       VOT        |  418  |\n",
      "+------------------+-------+\n"
     ]
    }
   ],
   "source": [
    "results = %sql SELECT * FROM section_counts;\n",
    "print(results)"
   ]
  },
  {
   "cell_type": "markdown",
   "id": "5fb17f41-2837-425f-9f5e-6ffa70aa2ece",
   "metadata": {},
   "source": [
    "Or, we can get fancy (make sure to run the above, first, as we're re-using the `results` variable!):"
   ]
  },
  {
   "cell_type": "code",
   "execution_count": 16,
   "id": "462b994e-750c-482e-9c28-50befbefa948",
   "metadata": {
    "tags": []
   },
   "outputs": [
    {
     "data": {
      "text/plain": [
       "<BarContainer object of 12 artists>"
      ]
     },
     "execution_count": 16,
     "metadata": {},
     "output_type": "execute_result"
    },
    {
     "data": {
      "image/png": "[encoded data removed]",
      "text/plain": [
       "<Figure size 640x480 with 1 Axes>"
      ]
     },
     "metadata": {},
     "output_type": "display_data"
    }
   ],
   "source": [
    "import matplotlib as mpl\n",
    "import matplotlib.pyplot as plt\n",
    "%matplotlib inline\n",
    "\n",
    "df = results.DataFrame()\n",
    "\n",
    "plt.bar(x=df['assigned_section'], \n",
    "        height=df['count'],\n",
    "        width=-0.3, \n",
    "        bottom=1, \n",
    "        align=\"edge\")"
   ]
  }
 ],
 "metadata": {
  "kernelspec": {
   "display_name": "Python 3 (ipykernel)",
   "language": "python",
   "name": "python3"
  },
  "language_info": {
   "codemirror_mode": {
    "name": "ipython",
    "version": 3
   },
   "file_extension": ".py",
   "mimetype": "text/x-python",
   "name": "python",
   "nbconvert_exporter": "python",
   "pygments_lexer": "ipython3",
   "version": "3.10.6"
  }
 },
 "nbformat": 4,
 "nbformat_minor": 5
}
